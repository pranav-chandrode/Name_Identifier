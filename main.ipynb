{
 "cells": [
  {
   "cell_type": "code",
   "execution_count": 1,
   "id": "99de45b2",
   "metadata": {},
   "outputs": [],
   "source": [
    "import torch \n",
    "import torch.nn as nn\n",
    "import torchvision\n",
    "from utils import ALL_LETTERS , N_LETTERS\n",
    "from utils import line_to_tensor,letter_to_index,letter_to_tensor,load_data,random_training_example\n",
    "\n",
    "import matplotlib.pyplot as plt\n",
    "import sys\n",
    "import time"
   ]
  },
  {
   "cell_type": "code",
   "execution_count": 2,
   "id": "0f3d402f",
   "metadata": {},
   "outputs": [],
   "source": [
    "start = time.time()"
   ]
  },
  {
   "cell_type": "code",
   "execution_count": 3,
   "id": "6ef94f2f",
   "metadata": {},
   "outputs": [],
   "source": [
    "class RNN(nn.Module):\n",
    "    def __init__(self,input_size , hidden_size , num_layers, num_classes):\n",
    "        super(RNN,self).__init__()\n",
    "        self.input_size = input_size\n",
    "        self.hidden_size = hidden_size\n",
    "        self.num_layers = num_layers\n",
    "        self.rnn = nn.RNN(input_size,hidden_size,num_layers,batch_first = True)\n",
    "        self.fc = nn.Linear(hidden_size,num_classes)\n",
    "\n",
    "    def forward(self , x ):\n",
    "        h0 = torch.zeros(self.num_layers , x.size(0) ,self.hidden_size)\n",
    "        out ,_ = self.rnn(x,h0)\n",
    "        out = out[:,-1,:]\n",
    "        out = self.fc(out)\n",
    "        return out   # out_shape = [1(batch_size) , 57(seq_len) , 128(hidden_size)]"
   ]
  },
  {
   "cell_type": "code",
   "execution_count": 4,
   "id": "fee62493",
   "metadata": {},
   "outputs": [],
   "source": [
    "dict_category , all_categories = load_data()"
   ]
  },
  {
   "cell_type": "code",
   "execution_count": 5,
   "id": "38a1f906",
   "metadata": {},
   "outputs": [],
   "source": [
    "input_size = N_LETTERS\n",
    "hidden_size = 256\n",
    "num_layers = 3\n",
    "num_classes = len(all_categories)\n",
    "learning_rate = 0.001\n",
    "n_epoch = 1000000"
   ]
  },
  {
   "cell_type": "code",
   "execution_count": 6,
   "id": "a2e34654",
   "metadata": {},
   "outputs": [
    {
     "data": {
      "text/plain": [
       "RNN(\n",
       "  (rnn): RNN(57, 256, num_layers=3, batch_first=True)\n",
       "  (fc): Linear(in_features=256, out_features=18, bias=True)\n",
       ")"
      ]
     },
     "execution_count": 6,
     "metadata": {},
     "output_type": "execute_result"
    }
   ],
   "source": [
    "modelRNN  = RNN(input_size,hidden_size,num_layers,num_classes)\n",
    "modelRNN"
   ]
  },
  {
   "cell_type": "code",
   "execution_count": 7,
   "id": "293b2b3f",
   "metadata": {},
   "outputs": [],
   "source": [
    "criterion = nn.CrossEntropyLoss()\n",
    "optimizer = torch.optim.SGD(modelRNN.parameters(), lr=learning_rate)"
   ]
  },
  {
   "cell_type": "code",
   "execution_count": 8,
   "id": "891cef7e",
   "metadata": {},
   "outputs": [
    {
     "name": "stdout",
     "output_type": "stream",
     "text": [
      "[1.0/100.0], loss = 1.8091\n",
      "[2.0/100.0], loss = 2.7682\n",
      "[3.0/100.0], loss = 1.2032\n",
      "[4.0/100.0], loss = 2.4664\n",
      "[5.0/100.0], loss = 2.1895\n",
      "[6.0/100.0], loss = 0.9668\n",
      "[7.0/100.0], loss = 0.8901\n",
      "[8.0/100.0], loss = 1.3835\n",
      "[9.0/100.0], loss = 0.5712\n",
      "[10.0/100.0], loss = 0.0609\n",
      "[11.0/100.0], loss = 1.9016\n",
      "[12.0/100.0], loss = 1.2974\n",
      "[13.0/100.0], loss = 3.4619\n",
      "[14.0/100.0], loss = 1.5074\n",
      "[15.0/100.0], loss = 0.0797\n",
      "[16.0/100.0], loss = 1.3681\n",
      "[17.0/100.0], loss = 0.0899\n",
      "[18.0/100.0], loss = 1.4266\n",
      "[19.0/100.0], loss = 0.2004\n",
      "[20.0/100.0], loss = 1.1627\n",
      "[21.0/100.0], loss = 1.1862\n",
      "[22.0/100.0], loss = 3.9355\n",
      "[23.0/100.0], loss = 0.0453\n",
      "[24.0/100.0], loss = 0.0480\n",
      "[25.0/100.0], loss = 0.7224\n",
      "[26.0/100.0], loss = 1.6602\n",
      "[27.0/100.0], loss = 1.5872\n",
      "[28.0/100.0], loss = 0.2235\n",
      "[29.0/100.0], loss = 0.2748\n",
      "[30.0/100.0], loss = 0.0293\n",
      "[31.0/100.0], loss = 0.0222\n",
      "[32.0/100.0], loss = 0.0039\n",
      "[33.0/100.0], loss = 0.1830\n",
      "[34.0/100.0], loss = 0.0406\n",
      "[35.0/100.0], loss = 0.0278\n",
      "[36.0/100.0], loss = 0.0013\n",
      "[37.0/100.0], loss = 1.1710\n",
      "[38.0/100.0], loss = 0.2754\n",
      "[39.0/100.0], loss = 0.1059\n",
      "[40.0/100.0], loss = 0.1969\n",
      "[41.0/100.0], loss = 0.0539\n",
      "[42.0/100.0], loss = 0.0490\n",
      "[43.0/100.0], loss = 0.1278\n",
      "[44.0/100.0], loss = 0.0799\n",
      "[45.0/100.0], loss = 0.2663\n",
      "[46.0/100.0], loss = 0.0114\n",
      "[47.0/100.0], loss = 0.0017\n",
      "[48.0/100.0], loss = 0.0213\n",
      "[49.0/100.0], loss = 0.0518\n",
      "[50.0/100.0], loss = 0.0316\n",
      "[51.0/100.0], loss = 0.0499\n",
      "[52.0/100.0], loss = 0.0009\n",
      "[53.0/100.0], loss = 0.0038\n",
      "[54.0/100.0], loss = 0.0055\n",
      "[55.0/100.0], loss = 0.0032\n",
      "[56.0/100.0], loss = 0.0046\n",
      "[57.0/100.0], loss = 0.0229\n",
      "[58.0/100.0], loss = 0.0339\n",
      "[59.0/100.0], loss = 0.1232\n",
      "[60.0/100.0], loss = 0.0240\n",
      "[61.0/100.0], loss = 0.1431\n",
      "[62.0/100.0], loss = 0.0976\n",
      "[63.0/100.0], loss = 0.0061\n",
      "[64.0/100.0], loss = 0.0057\n",
      "[65.0/100.0], loss = 0.0263\n",
      "[66.0/100.0], loss = 0.0067\n",
      "[67.0/100.0], loss = 0.3024\n",
      "[68.0/100.0], loss = 0.0859\n",
      "[69.0/100.0], loss = 0.0002\n",
      "[70.0/100.0], loss = 0.0143\n",
      "[71.0/100.0], loss = 0.0109\n",
      "[72.0/100.0], loss = 0.4262\n",
      "[73.0/100.0], loss = 0.0089\n",
      "[74.0/100.0], loss = 0.0036\n",
      "[75.0/100.0], loss = 0.0026\n",
      "[76.0/100.0], loss = 0.0120\n",
      "[77.0/100.0], loss = 0.0106\n",
      "[78.0/100.0], loss = 0.0703\n",
      "[79.0/100.0], loss = 0.0005\n",
      "[80.0/100.0], loss = 0.0062\n",
      "[81.0/100.0], loss = 0.0002\n",
      "[82.0/100.0], loss = 0.0014\n",
      "[83.0/100.0], loss = 0.1654\n",
      "[84.0/100.0], loss = 0.0237\n",
      "[85.0/100.0], loss = 0.0051\n",
      "[86.0/100.0], loss = 0.0419\n",
      "[87.0/100.0], loss = 0.0010\n",
      "[88.0/100.0], loss = 1.5463\n",
      "[89.0/100.0], loss = 0.0369\n",
      "[90.0/100.0], loss = 0.0126\n",
      "[91.0/100.0], loss = 0.0507\n",
      "[92.0/100.0], loss = 0.1254\n",
      "[93.0/100.0], loss = 0.0539\n",
      "[94.0/100.0], loss = 0.0179\n",
      "[95.0/100.0], loss = 0.2345\n",
      "[96.0/100.0], loss = 0.0107\n",
      "[97.0/100.0], loss = 0.0006\n",
      "[98.0/100.0], loss = 0.0451\n",
      "[99.0/100.0], loss = 0.0006\n",
      "[100.0/100.0], loss = 0.0046\n"
     ]
    }
   ],
   "source": [
    "print_step = 10000\n",
    "for epoch in range(n_epoch):\n",
    "    category, line, category_tensor, line_tensor = random_training_example(dict_category,all_categories)\n",
    "    line_tensor = line_tensor.reshape(line_tensor.size(1),line_tensor.size(0),N_LETTERS)\n",
    "\n",
    "    outputs = modelRNN(line_tensor)\n",
    "    # print(outputs.shape)\n",
    "    # print(category_tensor.shape)\n",
    "    # break\n",
    "    loss = criterion(outputs,category_tensor)\n",
    "\n",
    "    optimizer.zero_grad()\n",
    "    loss.backward()\n",
    "    optimizer.step()\n",
    "\n",
    "    if (epoch+1)%print_step == 0:\n",
    "        print(f'[{(epoch+1)/print_step}/{n_epoch/print_step}], loss = {loss.item() :.4f}')"
   ]
  },
  {
   "cell_type": "code",
   "execution_count": 9,
   "id": "a9c5578f",
   "metadata": {},
   "outputs": [],
   "source": [
    "def prediction(output):\n",
    "    my_pred_idx = torch.argmax(output)\n",
    "    return all_categories[my_pred_idx]"
   ]
  },
  {
   "cell_type": "code",
   "execution_count": 16,
   "id": "a518a792",
   "metadata": {},
   "outputs": [
    {
     "name": "stdout",
     "output_type": "stream",
     "text": [
      "Accuracy = 94.58\n"
     ]
    }
   ],
   "source": [
    "with torch.no_grad():\n",
    "    n_correct = 0\n",
    "    n_sampes = 0\n",
    "    for i in range(20000):\n",
    "        category, line, category_tensor, line_tensor = random_training_example(dict_category,all_categories)\n",
    "        line_tensor = line_tensor.reshape(line_tensor.size(1),line_tensor.size(0),N_LETTERS)\n",
    "        \n",
    "        output = modelRNN(line_tensor)\n",
    "\n",
    "        my_pred = prediction(output)\n",
    "        if my_pred == category:\n",
    "            n_correct+=1\n",
    "\n",
    "    print(f'Accuracy = {100*(n_correct/20000)}')"
   ]
  },
  {
   "cell_type": "code",
   "execution_count": 11,
   "id": "12827b7b",
   "metadata": {},
   "outputs": [
    {
     "name": "stdout",
     "output_type": "stream",
     "text": [
      "time = 89.75921707948049 min\n"
     ]
    }
   ],
   "source": [
    "end = time.time()\n",
    "print(f'time = {(end-start)/60} min')"
   ]
  },
  {
   "cell_type": "code",
   "execution_count": 12,
   "id": "0c5f39b1",
   "metadata": {},
   "outputs": [],
   "source": [
    "torch.save(modelRNN.state_dict(),'again_model.pth')"
   ]
  },
  {
   "cell_type": "code",
   "execution_count": null,
   "id": "2d0517ad",
   "metadata": {},
   "outputs": [],
   "source": []
  }
 ],
 "metadata": {
  "kernelspec": {
   "display_name": "Python 3",
   "language": "python",
   "name": "python3"
  },
  "language_info": {
   "codemirror_mode": {
    "name": "ipython",
    "version": 3
   },
   "file_extension": ".py",
   "mimetype": "text/x-python",
   "name": "python",
   "nbconvert_exporter": "python",
   "pygments_lexer": "ipython3",
   "version": "3.10.9"
  },
  "vscode": {
   "interpreter": {
    "hash": "569644d0d58e3d8751e50ca52c6f368c661a92c186cfc4d9a6eb16b49539f1d7"
   }
  }
 },
 "nbformat": 4,
 "nbformat_minor": 5
}
